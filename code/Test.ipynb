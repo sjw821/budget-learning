{
 "cells": [
  {
   "cell_type": "code",
   "execution_count": 2,
   "metadata": {
    "scrolled": true
   },
   "outputs": [],
   "source": [
    "import numpy as np\n",
    "import pandas as pd\n",
    "from sklearn.model_selection import train_test_split\n",
    "from sklearn import tree\n",
    "import sklearn\n",
    "datasets=['statlog','pendigits','musk','letter','covertype','miniboone','cardio','yahoo']#,'scene15'"
   ]
  },
  {
   "cell_type": "code",
   "execution_count": null,
   "metadata": {},
   "outputs": [],
   "source": [
    "# test loading data and a tree classifier\n",
    "X_train=np.loadtxt(\"../data/statlog/sat.trn\")\n",
    "Y_train= X_train[:,-1]\n",
    "X_train=X_train[:,:-1]\n",
    "X_test=np.loadtxt(\"../data/statlog/sat.tst\")\n",
    "Y_test= X_test[:,-1]\n",
    "X_test=X_test[:,:-1]\n",
    "clf = tree.DecisionTreeClassifier(criterion='miser', splitter='best' )\n",
    "clf = clf.fit(X_train, Y_train)\n",
    "Y_pred=clf.predict(X_test)\n",
    "print(np.sum(Y_pred==Y_test)/len(Y_test))"
   ]
  },
  {
   "cell_type": "code",
   "execution_count": 4,
   "metadata": {},
   "outputs": [],
   "source": [
    "\n",
    "def get_data(data):\n",
    "    if data == 'statlog':\n",
    "        X_train=np.loadtxt(\"../data/statlog/sat.trn\")\n",
    "        Y_train= X_train[:,-1]\n",
    "        X_train=X_train[:,:-1]\n",
    "        X_test=np.loadtxt(\"../data/statlog/sat.tst\")\n",
    "        Y_test= X_test[:,-1]\n",
    "        X_test=X_test[:,:-1]\n",
    "        \n",
    "        return X_train,Y_train,X_test,Y_test\n",
    "    \n",
    "    elif data == 'pendigits':\n",
    "        X_train=np.loadtxt(\"../data/pendigits/pendigits.tra\",delimiter=',')\n",
    "        Y_train= X_train[:,-1]\n",
    "        X_train=X_train[:,:-1]\n",
    "        X_test=np.loadtxt(\"../data/pendigits/pendigits.tes\",delimiter=',')\n",
    "        Y_test= X_test[:,-1]\n",
    "        X_test=X_test[:,:-1]\n",
    "        \n",
    "        return X_train,Y_train,X_test,Y_test\n",
    "    \n",
    "    elif data == 'musk':\n",
    "        X=pd.read_csv(\"../data/musk/clean2.data\",delimiter=',',header=None)\n",
    "        X=X.iloc[:,2:].values\n",
    "        Y= X[:,-1]\n",
    "        X=X[:,:-1]\n",
    "        X_train, X_test, Y_train, Y_test =train_test_split(X,Y, test_size=0.33, random_state=105)\n",
    "        return  X_train,Y_train,X_test,Y_test\n",
    "    \n",
    "    elif data == 'letter':\n",
    "        X=pd.read_csv(\"../data/letter/letter-recognition.data\",delimiter=',',header=None)\n",
    "        X=X.iloc[:,:].values\n",
    "        Y= X[:,0]\n",
    "        Y=np.asarray([ord(y) for y in Y])\n",
    "        X=X[:,1:]\n",
    "        X_train, X_test, Y_train, Y_test =train_test_split(X,Y, test_size=0.33, random_state=105)\n",
    "        return  X_train,Y_train,X_test,Y_test       \n",
    "\n",
    "    elif data == 'covertype':\n",
    "        X=pd.read_csv(\"../data/covertype/covtype.data\",delimiter=',',header=None)\n",
    "        X=X.iloc[:,:].values\n",
    "        Y= X[:,-1]\n",
    "        X=X[:,:-1]\n",
    "        X_train, X_test, Y_train, Y_test =train_test_split(X,Y, test_size=0.33, random_state=105)\n",
    "        return  X_train,Y_train,X_test,Y_test   \n",
    "    elif data == 'miniboone':\n",
    "        X=pd.read_csv(\"../data/miniboone/MiniBooNE.csv\")\n",
    "        X=X.iloc[:,:].values\n",
    "        Y= X[:,0]\n",
    "        Y=Y.astype(\"float\")\n",
    "        X=X[:,1:]\n",
    "        X_train, X_test, Y_train, Y_test =train_test_split(X,Y, test_size=0.33, random_state=105)\n",
    "        \n",
    "        return  X_train,Y_train,X_test,Y_test   \n",
    "    elif data == 'cardio':\n",
    "        X=pd.read_csv(\"../data/cardio/CTG.csv\",header=None,delimiter=';')\n",
    "        X=X.iloc[:,:].values\n",
    "        Y= X[:,-2]\n",
    "        Y=Y.astype(\"float\")\n",
    "        X=X[:,:-4]\n",
    "        X_train, X_test, Y_train, Y_test =train_test_split(X,Y, test_size=0.33, random_state=105)   \n",
    "        return  X_train,Y_train,X_test,Y_test\n",
    "    \n",
    "    elif data == 'yahoo':\n",
    "        X_train=np.loadtxt(\"../data/yahoo/set1.train.csv\",delimiter=',')\n",
    "        Y_train= X_train[:,0]\n",
    "        X_train =X_train[:,1:]\n",
    "        X_test=np.loadtxt(\"../data/yahoo/set1.test.csv\",delimiter=',')\n",
    "        Y_test= X_test[:,0]\n",
    "        X_test=X_test[:,1:]\n",
    "        \n",
    "        return X_train,Y_train,X_test,Y_test \n",
    "    \n",
    "    \n"
   ]
  },
  {
   "cell_type": "code",
   "execution_count": null,
   "metadata": {},
   "outputs": [],
   "source": [
    "# test get data \n",
    "\n",
    "# X_train,Y_train,X_test,Y_test=get_data('yahoo')\n",
    "# clf = tree.DecisionTreeClassifier(criterion='miser', splitter='best' )\n",
    "# clf = clf.fit(X_train, Y_train)\n",
    "# Y_pred=clf.predict(X_test)\n",
    "# print(np.sum(Y_pred==Y_test)/len(Y_test))"
   ]
  },
  {
   "cell_type": "code",
   "execution_count": 7,
   "metadata": {},
   "outputs": [
    {
     "name": "stdout",
     "output_type": "stream",
     "text": [
      "statlog: 3.0\n",
      "pendigits: 8.0\n",
      "musk: 1.0\n",
      "letter: 81\n",
      "covertype: 1\n",
      "miniboone: 1.0\n",
      "cardio: 6.0\n",
      "yahoo: 0.0\n"
     ]
    }
   ],
   "source": [
    "# convert data to svm light\n",
    "\n",
    "# from sklearn.datasets import dump_svmlight_file\n",
    "# import os\n",
    "\n",
    "# for data in datasets:\n",
    "#     X_train,Y_train,X_test,Y_test =get_data(data)\n",
    "# #     os.mkdir('../data/'+data+'/svm/')\n",
    "#     dump_svmlight_file(X_train, Y_train, '../data/'+data+'/svm/train.txt', zero_based=False, comment=None, query_id=[0]*len(Y_train), multilabel=False)\n",
    "#     dump_svmlight_file(X_test, Y_test, '../data/'+data+'/svm/test.txt', zero_based=False, comment=None, query_id=[0]*len(Y_test), multilabel=False)\n",
    "#     print(data+\": \"+str(Y_test[0]))"
   ]
  },
  {
   "cell_type": "code",
   "execution_count": 23,
   "metadata": {},
   "outputs": [],
   "source": [
    "from greedymiser.miser import miser"
   ]
  },
  {
   "cell_type": "code",
   "execution_count": 56,
   "metadata": {},
   "outputs": [
    {
     "name": "stderr",
     "output_type": "stream",
     "text": [
      "0,  52.69607,    53.30250\n"
     ]
    },
    {
     "ename": "KeyboardInterrupt",
     "evalue": "",
     "output_type": "error",
     "traceback": [
      "\u001b[0;31m---------------------------------------------------------------------------\u001b[0m",
      "\u001b[0;31mKeyboardInterrupt\u001b[0m                         Traceback (most recent call last)",
      "\u001b[0;32m<ipython-input-56-94b09bbb63df>\u001b[0m in \u001b[0;36m<module>\u001b[0;34m\u001b[0m\n\u001b[1;32m      3\u001b[0m \u001b[0mx\u001b[0m\u001b[0;34m.\u001b[0m\u001b[0mSTEPSIZE\u001b[0m\u001b[0;34m=\u001b[0m\u001b[0;36m.4\u001b[0m\u001b[0;34m\u001b[0m\u001b[0;34m\u001b[0m\u001b[0m\n\u001b[1;32m      4\u001b[0m \u001b[0mx\u001b[0m\u001b[0;34m.\u001b[0m\u001b[0mITER\u001b[0m\u001b[0;34m=\u001b[0m\u001b[0;36m1600\u001b[0m\u001b[0;34m\u001b[0m\u001b[0;34m\u001b[0m\u001b[0m\n\u001b[0;32m----> 5\u001b[0;31m \u001b[0mx\u001b[0m\u001b[0;34m.\u001b[0m\u001b[0mfit\u001b[0m\u001b[0;34m(\u001b[0m\u001b[0mpath\u001b[0m\u001b[0;34m=\u001b[0m\u001b[0;34m'synth'\u001b[0m\u001b[0;34m,\u001b[0m\u001b[0mcosts\u001b[0m\u001b[0;34m=\u001b[0m \u001b[0;34m\"s\"\u001b[0m\u001b[0;34m,\u001b[0m\u001b[0ml\u001b[0m \u001b[0;34m=\u001b[0m\u001b[0;36m25\u001b[0m\u001b[0;34m)\u001b[0m\u001b[0;34m\u001b[0m\u001b[0;34m\u001b[0m\u001b[0m\n\u001b[0m",
      "\u001b[0;32m~/Documents/budget-learning/code/greedymiser/miser.py\u001b[0m in \u001b[0;36mfit\u001b[0;34m(self, path, costs, l)\u001b[0m\n\u001b[1;32m     91\u001b[0m             \u001b[0;31m# read costs\u001b[0m\u001b[0;34m\u001b[0m\u001b[0;34m\u001b[0m\u001b[0;34m\u001b[0m\u001b[0m\n\u001b[1;32m     92\u001b[0m             \u001b[0;32mfor\u001b[0m \u001b[0mc\u001b[0m \u001b[0;32min\u001b[0m \u001b[0mrange\u001b[0m\u001b[0;34m(\u001b[0m\u001b[0mlen\u001b[0m\u001b[0;34m(\u001b[0m\u001b[0mcosts\u001b[0m\u001b[0;34m)\u001b[0m\u001b[0;34m)\u001b[0m\u001b[0;34m:\u001b[0m\u001b[0;34m\u001b[0m\u001b[0;34m\u001b[0m\u001b[0m\n\u001b[0;32m---> 93\u001b[0;31m                 \u001b[0ml\u001b[0m\u001b[0;34m=\u001b[0m\u001b[0mp\u001b[0m\u001b[0;34m.\u001b[0m\u001b[0mstdout\u001b[0m\u001b[0;34m.\u001b[0m\u001b[0mreadline\u001b[0m\u001b[0;34m(\u001b[0m\u001b[0;34m)\u001b[0m\u001b[0;34m\u001b[0m\u001b[0;34m\u001b[0m\u001b[0m\n\u001b[0m\u001b[1;32m     94\u001b[0m                 \u001b[0mcosts\u001b[0m\u001b[0;34m[\u001b[0m\u001b[0mc\u001b[0m\u001b[0;34m]\u001b[0m\u001b[0;34m=\u001b[0m\u001b[0mfloat\u001b[0m\u001b[0;34m(\u001b[0m\u001b[0ml\u001b[0m\u001b[0;34m.\u001b[0m\u001b[0mdecode\u001b[0m\u001b[0;34m(\u001b[0m\u001b[0;34m'UTF-8'\u001b[0m\u001b[0;34m)\u001b[0m\u001b[0;34m.\u001b[0m\u001b[0msplit\u001b[0m\u001b[0;34m(\u001b[0m\u001b[0;34m' '\u001b[0m\u001b[0;34m,\u001b[0m\u001b[0;36m1\u001b[0m\u001b[0;34m)\u001b[0m\u001b[0;34m[\u001b[0m\u001b[0;36m0\u001b[0m\u001b[0;34m]\u001b[0m\u001b[0;34m)\u001b[0m\u001b[0;34m\u001b[0m\u001b[0;34m\u001b[0m\u001b[0m\n\u001b[1;32m     95\u001b[0m                 \u001b[0;31m# print(str(c)+\"  feature = \" +l.decode('UTF-8'))\u001b[0m\u001b[0;34m\u001b[0m\u001b[0;34m\u001b[0m\u001b[0;34m\u001b[0m\u001b[0m\n",
      "\u001b[0;31mKeyboardInterrupt\u001b[0m: "
     ]
    }
   ],
   "source": [
    "x=miser()\n",
    "x.DEPTH=100\n",
    "x.STEPSIZE=.4\n",
    "x.ITER=1600\n",
    "x.fit(path='synth',costs= \"s\",l =25)"
   ]
  },
  {
   "cell_type": "code",
   "execution_count": 22,
   "metadata": {},
   "outputs": [
    {
     "data": {
      "text/plain": [
       "array([0., 0., 0., 1., 1., 1., 1., 1., 1., 1.])"
      ]
     },
     "execution_count": 22,
     "metadata": {},
     "output_type": "execute_result"
    }
   ],
   "source": [
    "x.COSTS"
   ]
  },
  {
   "cell_type": "code",
   "execution_count": null,
   "metadata": {},
   "outputs": [],
   "source": []
  },
  {
   "cell_type": "code",
   "execution_count": null,
   "metadata": {},
   "outputs": [],
   "source": []
  }
 ],
 "metadata": {
  "anaconda-cloud": {},
  "hide_input": false,
  "kernelspec": {
   "display_name": "budget",
   "language": "python",
   "name": "budget"
  },
  "latex_envs": {
   "LaTeX_envs_menu_present": true,
   "autoclose": false,
   "autocomplete": true,
   "bibliofile": "biblio.bib",
   "cite_by": "apalike",
   "current_citInitial": 1,
   "eqLabelWithNumbers": true,
   "eqNumInitial": 1,
   "hotkeys": {
    "equation": "Ctrl-E",
    "itemize": "Ctrl-I"
   },
   "labels_anchors": false,
   "latex_user_defs": false,
   "report_style_numbering": false,
   "user_envs_cfg": false
  },
  "varInspector": {
   "cols": {
    "lenName": 16,
    "lenType": 16,
    "lenVar": 40
   },
   "kernels_config": {
    "python": {
     "delete_cmd_postfix": "",
     "delete_cmd_prefix": "del ",
     "library": "var_list.py",
     "varRefreshCmd": "print(var_dic_list())"
    },
    "r": {
     "delete_cmd_postfix": ") ",
     "delete_cmd_prefix": "rm(",
     "library": "var_list.r",
     "varRefreshCmd": "cat(var_dic_list()) "
    }
   },
   "types_to_exclude": [
    "module",
    "function",
    "builtin_function_or_method",
    "instance",
    "_Feature"
   ],
   "window_display": false
  }
 },
 "nbformat": 4,
 "nbformat_minor": 1
}
